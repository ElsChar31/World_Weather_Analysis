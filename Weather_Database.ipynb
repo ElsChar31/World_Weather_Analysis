{
 "cells": [
  {
   "cell_type": "code",
   "execution_count": null,
   "id": "678b654b",
   "metadata": {},
   "outputs": [],
   "source": [
    "# Import the requests library.\n",
    "\n",
    "import requests\n",
    "\n",
    "# Import the API key.\n",
    "\n",
    "from config import weather_api_key"
   ]
  },
  {
   "cell_type": "code",
   "execution_count": null,
   "id": "6c3b209a",
   "metadata": {},
   "outputs": [],
   "source": [
    "#Starting URL for Weather Map API Call.\n",
    "\n",
    "url = \"http://api.openweathermap.org/data/2.5/weather?units=Imperial&APPID=\" + weather_api_key\n",
    "\n",
    "print(url)"
   ]
  },
  {
   "cell_type": "code",
   "execution_count": null,
   "id": "ad664c1b",
   "metadata": {},
   "outputs": [],
   "source": [
    "# Create an endpoint URL for a city.\n",
    "\n",
    "city_url = url + \"&q=\" + \"Boston\"\n",
    "\n",
    "print(city_url)"
   ]
  },
  {
   "cell_type": "code",
   "execution_count": null,
   "id": "e791f2d7",
   "metadata": {},
   "outputs": [],
   "source": [
    "# Convert the array of dictionaries to a Pandas DataFrame.\n",
    "\n",
    "city_data_df = pd.DataFrame(city_data)\n",
    "\n",
    "city_data_df.head(10)"
   ]
  },
  {
   "cell_type": "code",
   "execution_count": null,
   "id": "773be18d",
   "metadata": {},
   "outputs": [],
   "source": [
    "# Create the output file (CSV).\n",
    "\n",
    "output_data_file = \"vacation_itinerary\" + \"vacation_search.csv\"\n",
    "\n",
    "# Export the City_Data into a CSV.\n",
    "\n",
    "city_data_df.to_csv(output_data_file, index_label=\"City_ID\")\n",
    "\n",
    "\n",
    "# Add config.py file\n",
    "\n",
    "config.py"
   ]
  },
  {
   "cell_type": "code",
   "execution_count": null,
   "id": "16e0174a",
   "metadata": {},
   "outputs": [],
   "source": [
    "# Import the time library and the datetime module from the datetime library \n",
    "\n",
    "import time\n",
    "\n",
    "from datetime import datetime"
   ]
  },
  {
   "cell_type": "code",
   "execution_count": null,
   "id": "a982f81f",
   "metadata": {},
   "outputs": [],
   "source": [
    "# Create an empty list to hold the weather data.\n",
    "\n",
    "city_data = []\n",
    "\n",
    "# Print the beginning of the logging.\n",
    "\n",
    "print(\"Beginning Data Retrieval     \")\n",
    "\n",
    "print(\"-----------------------------\")\n",
    "\n",
    "# Create counters.\n",
    "\n",
    "record_count = 1\n",
    "\n",
    "set_count = 1"
   ]
  },
  {
   "cell_type": "code",
   "execution_count": null,
   "id": "f3b891fe",
   "metadata": {},
   "outputs": [],
   "source": [
    "# Loop through all the cities in our list.\n",
    "for i in range(len(cities)):\n",
    "\n",
    "    # Group cities in sets of 50 for logging purposes.\n",
    "    if (i % 50 == 0 and i >= 50):\n",
    "        \n",
    "        set_count += 1\n",
    "        \n",
    "        record_count = 1\n",
    "        \n",
    "        time.sleep(60)\n",
    "\n",
    "    # Create endpoint URL with each city.\n",
    "    \n",
    "    city_url = url + \"&q=\" + city.replace(\" \",\"+\")\n",
    "\n",
    "    # Log the URL, record, and set numbers and the city.\n",
    "    \n",
    "    print(f\"Processing Record {record_count} of Set {set_count} | {city}\")\n",
    "    \n",
    "    # Add 1 to the record count.\n",
    "    \n",
    "    record_count += 1"
   ]
  },
  {
   "cell_type": "code",
   "execution_count": null,
   "id": "d7ffb2ad",
   "metadata": {},
   "outputs": [],
   "source": [
    "try:\n",
    "        # Parse the JSON and retrieve data.\n",
    "        \n",
    "        city_weather = requests.get(city_url).json()\n",
    "        \n",
    "        # Parse out the needed data.\n",
    "        \n",
    "        city_lat = city_weather[\"coord\"][\"lat\"]\n",
    "        \n",
    "        city_lng = city_weather[\"coord\"][\"lon\"]\n",
    "        \n",
    "        city_max_temp = city_weather[\"main\"][\"temp_max\"]\n",
    "        \n",
    "        city_humidity = city_weather[\"main\"][\"humidity\"]\n",
    "        \n",
    "        city_clouds = city_weather[\"clouds\"][\"all\"]\n",
    "        \n",
    "        city_wind = city_weather[\"wind\"][\"speed\"]\n",
    "        \n",
    "        city_country = city_weather[\"sys\"][\"country\"]\n",
    "        \n",
    "        city_fog = city_weather [\"fog\"][\"weather_description\"]\n",
    "        \n",
    "        city_clear_sky = city_weather [\"clear\"][\"sky\"]\n",
    "        \n",
    "        city_light_rain = city_weather [\"light\"][\"rain\"]\n",
    "        \n",
    "        # Convert the date to ISO standard.\n",
    "        \n",
    "        city_date = datetime.utcfromtimestamp(city_weather[\"dt\"]).strftime('%Y-%m-%d %H:%M:%S')\n",
    "        \n",
    "        # Append the city information into city_data list.\n",
    "        \n",
    "        city_data.append({\"City\": city.title(),\n",
    "                          \n",
    "                          \"Lat\": city_lat,\n",
    "                          \n",
    "                          \"Lng\": city_lng,\n",
    "                          \n",
    "                          \"Max Temp\": city_max_temp,\n",
    "                          \n",
    "                          \"Humidity\": city_humidity,\n",
    "                          \n",
    "                          \"Cloudiness\": city_clouds,\n",
    "                          \n",
    "                          \"Wind Speed\": city_wind,\n",
    "                          \n",
    "                          \"Clouds\": city_clouds,\n",
    "                          \n",
    "                          \"Fog\": city_fog\n",
    "                          \n",
    "                          \"Light rain\": city_light_rain,\n",
    "                          \n",
    "                          \"clear sky\": city_clear_sky,\n",
    "                          \n",
    "                          \"Country\": city_country,\n",
    "                          \n",
    "                          \"Date\": city_date})"
   ]
  }
 ],
 "metadata": {
  "kernelspec": {
   "display_name": "Pythondata",
   "language": "python",
   "name": "pythondata"
  },
  "language_info": {
   "codemirror_mode": {
    "name": "ipython",
    "version": 3
   },
   "file_extension": ".py",
   "mimetype": "text/x-python",
   "name": "python",
   "nbconvert_exporter": "python",
   "pygments_lexer": "ipython3",
   "version": "3.7.13"
  }
 },
 "nbformat": 4,
 "nbformat_minor": 5
}
